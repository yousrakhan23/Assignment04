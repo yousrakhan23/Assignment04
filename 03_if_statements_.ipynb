{
  "nbformat": 4,
  "nbformat_minor": 0,
  "metadata": {
    "colab": {
      "provenance": []
    },
    "kernelspec": {
      "name": "python3",
      "display_name": "Python 3"
    },
    "language_info": {
      "name": "python"
    }
  },
  "cells": [
    {
      "cell_type": "markdown",
      "source": [
        "4. 03_if_statements - Understanding conditional statements, their syntax, and how they\n",
        "help in decision-making."
      ],
      "metadata": {
        "id": "q5Be6qrROYMO"
      }
    },
    {
      "cell_type": "markdown",
      "source": [
        "Problem 1: Simple Age Checker"
      ],
      "metadata": {
        "id": "CmH8DJBXOZE0"
      }
    },
    {
      "cell_type": "code",
      "source": [
        "age = int(input(\"enter you age: \"))\n",
        "if age < 0:\n",
        "   print(\"age can not be negative.\")\n",
        "elif age < 13:\n",
        "   print(\"you are a child.\")\n",
        "elif age < 18:\n",
        "   print(\"you are a teenager.\")\n",
        "else:\n",
        "   print(\"you are an adult.\")"
      ],
      "metadata": {
        "colab": {
          "base_uri": "https://localhost:8080/"
        },
        "id": "VgghpU3POiuP",
        "outputId": "0a151996-99cf-4cf2-a997-a2341ff420be"
      },
      "execution_count": 2,
      "outputs": [
        {
          "output_type": "stream",
          "name": "stdout",
          "text": [
            "enter you age: 7\n",
            "you are a child.\n"
          ]
        }
      ]
    },
    {
      "cell_type": "markdown",
      "source": [
        "Problem 2: Password Checker"
      ],
      "metadata": {
        "id": "rMGGIH3yPTZM"
      }
    },
    {
      "cell_type": "code",
      "source": [
        "password = input(\"enter your password: \")\n",
        "correct_password = \"pandagirl\"\n",
        "\n",
        "if len(password) < 8:\n",
        "   print(\"password must be at least 8 characters long.\")\n",
        "elif password == correct_password:\n",
        "   print(\"password accepted.\")\n",
        "else:\n",
        "   print(\"incorrect password.\")"
      ],
      "metadata": {
        "colab": {
          "base_uri": "https://localhost:8080/"
        },
        "id": "_MdwDjM5PWFt",
        "outputId": "58bf888d-73cc-4d27-b9ae-60eb0a541610"
      },
      "execution_count": 5,
      "outputs": [
        {
          "output_type": "stream",
          "name": "stdout",
          "text": [
            "enter your password: pandagirl\n",
            "password accepted.\n"
          ]
        }
      ]
    },
    {
      "cell_type": "markdown",
      "source": [
        "Ternary Operator"
      ],
      "metadata": {
        "id": "C1pnsLVBQJ5l"
      }
    },
    {
      "cell_type": "code",
      "source": [
        "age = 89\n",
        "status = \"adult\" if age >= 18 else \"child\"\n",
        "print(status)"
      ],
      "metadata": {
        "colab": {
          "base_uri": "https://localhost:8080/"
        },
        "id": "-bDjqu0PQKbV",
        "outputId": "12d8367f-ec1a-4252-e09e-d6be3ad86da7"
      },
      "execution_count": 6,
      "outputs": [
        {
          "output_type": "stream",
          "name": "stdout",
          "text": [
            "adult\n"
          ]
        }
      ]
    },
    {
      "cell_type": "markdown",
      "source": [
        "Truth Value Testing"
      ],
      "metadata": {
        "id": "hR2_yoFpQeKL"
      }
    },
    {
      "cell_type": "code",
      "source": [
        "name = \"\"\n",
        "if name:\n",
        "    print(f\"salam, {name}\")\n",
        "else:\n",
        "    print(\"name is empty\")"
      ],
      "metadata": {
        "colab": {
          "base_uri": "https://localhost:8080/"
        },
        "id": "UokzjpazQe9x",
        "outputId": "3792ac9f-2d87-43f2-bc49-4af81bcc9bc2"
      },
      "execution_count": 7,
      "outputs": [
        {
          "output_type": "stream",
          "name": "stdout",
          "text": [
            "name is empty\n"
          ]
        }
      ]
    },
    {
      "cell_type": "markdown",
      "source": [
        " Chained Comparisons"
      ],
      "metadata": {
        "id": "zrILuUgLRH9D"
      }
    },
    {
      "cell_type": "code",
      "source": [
        "x = 5\n",
        "if 0 < x < 10:\n",
        "    print(\"x is between 0 and 10\")"
      ],
      "metadata": {
        "colab": {
          "base_uri": "https://localhost:8080/"
        },
        "id": "5j3dJl15RIcz",
        "outputId": "b4a7a166-2274-4f05-ff08-a5ad7e488d98"
      },
      "execution_count": 8,
      "outputs": [
        {
          "output_type": "stream",
          "name": "stdout",
          "text": [
            "x is between 0 and 10\n"
          ]
        }
      ]
    },
    {
      "cell_type": "markdown",
      "source": [
        "Problem 3 : Shopping Discount"
      ],
      "metadata": {
        "id": "gwEiwroaRYIb"
      }
    },
    {
      "cell_type": "code",
      "source": [
        "purchase_amount = float(input(\"enter your purchase amount: \"))\n",
        "if purchase_amount > 1000:\n",
        "    discount = 0.2\n",
        "elif purchase_amount > 500:\n",
        "    discount = 0.1\n",
        "else:\n",
        "    discount = 0\n",
        "final_amount = purchase_amount * (1 - discount)\n",
        "print(f\"your final amount after discount is: ${final_amount:.2f}\")"
      ],
      "metadata": {
        "colab": {
          "base_uri": "https://localhost:8080/"
        },
        "id": "9bftAB9KRd5j",
        "outputId": "69b1c65e-cab6-43af-f330-3798e157a00d"
      },
      "execution_count": 9,
      "outputs": [
        {
          "output_type": "stream",
          "name": "stdout",
          "text": [
            "enter your purchase amount: 70000\n",
            "your final amount after discount is: $56000.00\n"
          ]
        }
      ]
    }
  ]
}