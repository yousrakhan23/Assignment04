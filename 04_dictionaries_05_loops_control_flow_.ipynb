{
  "nbformat": 4,
  "nbformat_minor": 0,
  "metadata": {
    "colab": {
      "provenance": []
    },
    "kernelspec": {
      "name": "python3",
      "display_name": "Python 3"
    },
    "language_info": {
      "name": "python"
    }
  },
  "cells": [
    {
      "cell_type": "markdown",
      "source": [
        "5. 04_dictionaries - Working with dictionaries, understanding key-value pairs, and how to\n",
        "store and retrieve data efficiently."
      ],
      "metadata": {
        "id": "XPDhMqaQTeQ0"
      }
    },
    {
      "cell_type": "markdown",
      "source": [
        "Problem 1: Word Frequency Counter"
      ],
      "metadata": {
        "id": "PES6YXVeUGea"
      }
    },
    {
      "cell_type": "code",
      "source": [
        "def word_count(text):\n",
        "  words = text.lower().split()\n",
        "  frequency = {}\n",
        "  for word in words:\n",
        "      frequency[word] = frequency.get(word, 0) + 1\n",
        "  return frequency\n",
        "\n",
        "text = \"Hey baby panda you are so sweet, don't trust anyone coz just a little baby panda girl.\"\n",
        "print(word_count(text))"
      ],
      "metadata": {
        "colab": {
          "base_uri": "https://localhost:8080/"
        },
        "id": "LKaDhuhdUHPK",
        "outputId": "94d712d2-490f-4f0f-9097-1607a6ebc925"
      },
      "execution_count": 1,
      "outputs": [
        {
          "output_type": "stream",
          "name": "stdout",
          "text": [
            "{'hey': 1, 'baby': 2, 'panda': 2, 'you': 1, 'are': 1, 'so': 1, 'sweet,': 1, \"don't\": 1, 'trust': 1, 'anyone': 1, 'coz': 1, 'just': 1, 'a': 1, 'little': 1, 'girl.': 1}\n"
          ]
        }
      ]
    },
    {
      "cell_type": "markdown",
      "source": [
        "Problem 2: Student Database"
      ],
      "metadata": {
        "id": "2mFVSDPUVqmi"
      }
    },
    {
      "cell_type": "code",
      "source": [
        "students = {\n",
        "    101: {\"name\": \"Alice\", \"grade\": \"A\"},\n",
        "    102: {\"name\": \"Bob\", \"grade\": \"B\"},\n",
        "    103: {\"name\": \"Charlie\", \"grade\": \"C\"}\n",
        "}\n",
        "print(students[102])\n",
        "\n",
        "students[104] = {\"name\": \"David\", \"grade\": \"A\"}\n",
        "print(students[104])\n",
        "\n",
        "students[102]['grade'] = 'A'\n",
        "print(students[102])\n",
        "\n",
        "del students[103]\n",
        "print(students)\n",
        "\n",
        "for id, info in students.items():\n",
        "  print(f\"ID: {id}, Name: {info['name']}, Grade: {info['grade']}\")"
      ],
      "metadata": {
        "colab": {
          "base_uri": "https://localhost:8080/"
        },
        "id": "nhVl8SJWVrhi",
        "outputId": "70528f6e-6c71-4503-84b1-1afd16469b31"
      },
      "execution_count": 7,
      "outputs": [
        {
          "output_type": "stream",
          "name": "stdout",
          "text": [
            "{'name': 'Bob', 'grade': 'B'}\n",
            "{'name': 'David', 'grade': 'A'}\n",
            "{'name': 'Bob', 'grade': 'A'}\n",
            "{101: {'name': 'Alice', 'grade': 'A'}, 102: {'name': 'Bob', 'grade': 'A'}, 104: {'name': 'David', 'grade': 'A'}}\n",
            "ID: 101, Name: Alice, Grade: A\n",
            "ID: 102, Name: Bob, Grade: A\n",
            "ID: 104, Name: David, Grade: A\n"
          ]
        }
      ]
    },
    {
      "cell_type": "markdown",
      "source": [
        "Problem 3: Dictionary Comprehension\n"
      ],
      "metadata": {
        "id": "wh06H6yiXEky"
      }
    },
    {
      "cell_type": "code",
      "source": [
        "numbers = [1,2,3,4,5]\n",
        "squares = {x: x**2 for x in numbers}\n",
        "print(squares)\n",
        "\n",
        "student = {'name': 'Alice', 'age': 20, 'major': 'Computer Science'}\n",
        "student_info = {key: value for key, value in student.items() if key != 'age'}\n",
        "print(student_info)\n",
        "\n",
        "original = {'name': 'Alice', 'age': 20}\n",
        "inverted = {**original, 'major': 'Computer Science'}\n",
        "print(inverted)"
      ],
      "metadata": {
        "colab": {
          "base_uri": "https://localhost:8080/"
        },
        "id": "KUfdl9p9XGye",
        "outputId": "977e18b4-db80-4c59-f6af-7d101b9b1c4b"
      },
      "execution_count": 11,
      "outputs": [
        {
          "output_type": "stream",
          "name": "stdout",
          "text": [
            "{1: 1, 2: 4, 3: 9, 4: 16, 5: 25}\n",
            "{'name': 'Alice', 'major': 'Computer Science'}\n",
            "{'name': 'Alice', 'age': 20, 'major': 'Computer Science'}\n"
          ]
        }
      ]
    },
    {
      "cell_type": "markdown",
      "source": [
        "6. 05_loops_control_flow - Learning about loops (for and while), control flow\n",
        "mechanisms, and iterative processing in Python."
      ],
      "metadata": {
        "id": "nck8N0jvYc85"
      }
    },
    {
      "cell_type": "markdown",
      "source": [
        "Loop Control Statements"
      ],
      "metadata": {
        "id": "G60R5nkzYd4B"
      }
    },
    {
      "cell_type": "code",
      "source": [
        "for num in range(10):\n",
        "    if num == 5:\n",
        "        break\n",
        "    print(num)\n",
        "\n",
        "for num in range(10):\n",
        "    if num % 2 == 0:\n",
        "        continue\n",
        "    print(num)\n",
        "\n",
        "for num in range(3):\n",
        "    print(num)\n",
        "else:\n",
        "    print(\"loop completed\")"
      ],
      "metadata": {
        "colab": {
          "base_uri": "https://localhost:8080/"
        },
        "id": "q7iKeVhFYxdz",
        "outputId": "e96b41d8-a736-4117-ccdc-4679e1357c86"
      },
      "execution_count": 12,
      "outputs": [
        {
          "output_type": "stream",
          "name": "stdout",
          "text": [
            "0\n",
            "1\n",
            "2\n",
            "3\n",
            "4\n",
            "1\n",
            "3\n",
            "5\n",
            "7\n",
            "9\n",
            "0\n",
            "1\n",
            "2\n",
            "loop completed\n"
          ]
        }
      ]
    },
    {
      "cell_type": "markdown",
      "source": [
        "Problem 1: Password Validation"
      ],
      "metadata": {
        "id": "38CJkIjJZh-Z"
      }
    },
    {
      "cell_type": "code",
      "source": [
        "max_attempts = 3\n",
        "attempts = 0\n",
        "corrected_password = \"meripython\"\n",
        "\n",
        "while attempts < max_attempts:\n",
        "    password = input(\"enter password: \")\n",
        "    if password == corrected_password:\n",
        "        print(\"access granted.\")\n",
        "        break\n",
        "    attempts += 1\n",
        "    print(f\"attempts remaining: {max_attempts - attempts}\")\n",
        "else:\n",
        "    print(\"access denied.\")"
      ],
      "metadata": {
        "colab": {
          "base_uri": "https://localhost:8080/"
        },
        "id": "U42yDjKOZoGA",
        "outputId": "6638fbb9-e5ac-4c1c-cb59-398aa9a208c4"
      },
      "execution_count": 13,
      "outputs": [
        {
          "output_type": "stream",
          "name": "stdout",
          "text": [
            "enter password: you\n",
            "attempts remaining: 2\n",
            "enter password: python\n",
            "attempts remaining: 1\n",
            "enter password: 1234\n",
            "attempts remaining: 0\n",
            "access denied.\n"
          ]
        }
      ]
    },
    {
      "cell_type": "markdown",
      "source": [
        "Problem 2: Dictionary Iteration"
      ],
      "metadata": {
        "id": "ihne7L3Latch"
      }
    },
    {
      "cell_type": "code",
      "source": [
        "students_grades = {'Alice': 90, 'Bob': 85, 'Charlie': 95}\n",
        "for name, grade in students_grades.items():\n",
        "    if grade > 80:\n",
        "        print(f\"{name} has a good grade: {grade}\")"
      ],
      "metadata": {
        "colab": {
          "base_uri": "https://localhost:8080/"
        },
        "id": "Rb4MrZFWav4U",
        "outputId": "b9c0d317-6724-4719-f293-9d5c8adf0851"
      },
      "execution_count": 14,
      "outputs": [
        {
          "output_type": "stream",
          "name": "stdout",
          "text": [
            "Alice has a good grade: 90\n",
            "Bob has a good grade: 85\n",
            "Charlie has a good grade: 95\n"
          ]
        }
      ]
    },
    {
      "cell_type": "markdown",
      "source": [
        "Nested Loops"
      ],
      "metadata": {
        "id": "TZxOXTC7bVVQ"
      }
    },
    {
      "cell_type": "code",
      "source": [
        "for i in range(1,6):\n",
        "    for j in range(1,6):\n",
        "        print(f\"{i*j:4}\" , end=\"\")\n",
        "    print()"
      ],
      "metadata": {
        "colab": {
          "base_uri": "https://localhost:8080/"
        },
        "id": "AVuF7KcZbW2T",
        "outputId": "852ebaaa-a2bc-43f8-9c28-2c340f0cfc8e"
      },
      "execution_count": 15,
      "outputs": [
        {
          "output_type": "stream",
          "name": "stdout",
          "text": [
            "   1   2   3   4   5\n",
            "   2   4   6   8  10\n",
            "   3   6   9  12  15\n",
            "   4   8  12  16  20\n",
            "   5  10  15  20  25\n"
          ]
        }
      ]
    }
  ]
}