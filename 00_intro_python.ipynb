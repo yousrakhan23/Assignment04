{
  "nbformat": 4,
  "nbformat_minor": 0,
  "metadata": {
    "colab": {
      "provenance": []
    },
    "kernelspec": {
      "name": "python3",
      "display_name": "Python 3"
    },
    "language_info": {
      "name": "python"
    }
  },
  "cells": [
    {
      "cell_type": "markdown",
      "source": [
        "**ASSIGNMENT 4 GIVEN BY SIR HAMZA SAWATI**\n",
        "\n",
        "\n"
      ],
      "metadata": {
        "id": "XLZ5_WvT7jsw"
      }
    },
    {
      "cell_type": "markdown",
      "source": [
        "*Assignment 1: Python Fundamentals*"
      ],
      "metadata": {
        "id": "mXHS6OnB79rQ"
      }
    },
    {
      "cell_type": "markdown",
      "source": [
        "1. 00_intro_python - An introduction to Python programming, covering the basics such as\n",
        "syntax, data types, and simple operations.\n",
        "\n",
        "\n"
      ],
      "metadata": {
        "id": "5T3BEs9r8B_Q"
      }
    },
    {
      "cell_type": "markdown",
      "source": [
        "Python Basics - Core Concepts\n",
        "1. Variables and Data Types\n",
        "Python has several basic data types:\n",
        "\n",
        "Integers (int) - whole numbers\n",
        "\n",
        "Floats (float) - decimal numbers\n",
        "\n",
        "Strings (str) - text\n",
        "\n",
        "Booleans (bool) - True/False"
      ],
      "metadata": {
        "id": "cMay8tXf-qVf"
      }
    },
    {
      "cell_type": "code",
      "source": [
        "name = \"Yousra\"\n",
        "age = 79\n",
        "height = 9.7\n",
        "is_married = True\n",
        "\n",
        "print(name)\n",
        "print(age)\n",
        "print(height)\n",
        "print(is_married)"
      ],
      "metadata": {
        "colab": {
          "base_uri": "https://localhost:8080/"
        },
        "id": "Vr5trz8Y-tzH",
        "outputId": "13a2ee92-46a6-4522-f7a4-ae7efcb21823"
      },
      "execution_count": null,
      "outputs": [
        {
          "output_type": "stream",
          "name": "stdout",
          "text": [
            "Yousra\n",
            "79\n",
            "9.7\n",
            "True\n"
          ]
        }
      ]
    },
    {
      "cell_type": "markdown",
      "source": [
        "2. Basic Operations"
      ],
      "metadata": {
        "id": "LktCdlKNAAsY"
      }
    },
    {
      "cell_type": "code",
      "source": [
        "a = 10\n",
        "b = 3\n",
        "\n",
        "print(a + b)\n",
        "print(a - b)\n",
        "print(a * b)\n",
        "print(a / b)\n",
        "print(a // b)\n",
        "print(a % b)\n",
        "print(a ** b)"
      ],
      "metadata": {
        "colab": {
          "base_uri": "https://localhost:8080/"
        },
        "id": "8kd5s-8MABMq",
        "outputId": "c6fe7e8d-5f51-4100-8adf-195b39147278"
      },
      "execution_count": null,
      "outputs": [
        {
          "output_type": "stream",
          "name": "stdout",
          "text": [
            "13\n",
            "7\n",
            "30\n",
            "3.3333333333333335\n",
            "3\n",
            "1\n",
            "1000\n"
          ]
        }
      ]
    },
    {
      "cell_type": "code",
      "source": [
        "greeting = \"Assalamoalaikum Eid Mubarak\"\n",
        "name = \"Hassan\"\n",
        "print(greeting + \" \" + name)\n",
        "print(name * 3)"
      ],
      "metadata": {
        "colab": {
          "base_uri": "https://localhost:8080/"
        },
        "id": "MWNrdog1AaOY",
        "outputId": "aaf2bbd1-46e3-4d9a-93d9-d520c46032f1"
      },
      "execution_count": null,
      "outputs": [
        {
          "output_type": "stream",
          "name": "stdout",
          "text": [
            "Assalamoalaikum Eid Mubarak Hassan\n",
            "HassanHassanHassan\n"
          ]
        }
      ]
    },
    {
      "cell_type": "markdown",
      "source": [
        "3. Input/Output"
      ],
      "metadata": {
        "id": "1z0RrDS2BSwI"
      }
    },
    {
      "cell_type": "code",
      "source": [
        "name = input(\"What is your name?\")\n",
        "age = input(\"How old are you?\")\n",
        "print(\"My name is \" + name + \" and I am \" + age + \" years old.\")"
      ],
      "metadata": {
        "colab": {
          "base_uri": "https://localhost:8080/"
        },
        "id": "qW8knaY6BXR3",
        "outputId": "9b9f0a0c-97a7-4d5d-845a-c3e97d8333e5"
      },
      "execution_count": null,
      "outputs": [
        {
          "output_type": "stream",
          "name": "stdout",
          "text": [
            "What is your name?yousra\n",
            "How old are you?89\n",
            "My name is yousra and I am 89 years old.\n"
          ]
        }
      ]
    },
    {
      "cell_type": "code",
      "source": [
        "name1 = input(\"What is your name?\")\n",
        "age1 = input(\"How old are you?\")\n",
        "print(\"Salam\", name1)\n",
        "print(f\"I am {age1} years old.\")"
      ],
      "metadata": {
        "colab": {
          "base_uri": "https://localhost:8080/"
        },
        "id": "ryt0TIpsCAyY",
        "outputId": "fa02df26-2732-4e34-8c08-b1a0c3b722a9"
      },
      "execution_count": null,
      "outputs": [
        {
          "output_type": "stream",
          "name": "stdout",
          "text": [
            "What is your name?Pakistan\n",
            "How old are you?77\n",
            "Salam Pakistan\n",
            "I am 77 years old.\n"
          ]
        }
      ]
    },
    {
      "cell_type": "markdown",
      "source": [
        "Practice Problems\n",
        "Problem 1: Simple Greeting Program"
      ],
      "metadata": {
        "id": "REYghXCoC1KH"
      }
    },
    {
      "cell_type": "code",
      "source": [
        "name2 = input(\"what is your name?\")\n",
        "print(f\"Salam, {name2}! Welcome to python programming language.\")"
      ],
      "metadata": {
        "colab": {
          "base_uri": "https://localhost:8080/"
        },
        "id": "MtXKpXtBC3Cv",
        "outputId": "14e251ea-5629-47b0-cc15-4b13c3a99b38"
      },
      "execution_count": null,
      "outputs": [
        {
          "output_type": "stream",
          "name": "stdout",
          "text": [
            "what is your name?Atif Aslam\n",
            "Salam, Atif Aslam! Welcome to python programming language.\n"
          ]
        }
      ]
    },
    {
      "cell_type": "markdown",
      "source": [
        "Problem 2: Temperature Converter"
      ],
      "metadata": {
        "id": "HdqNJXV4Da3Q"
      }
    },
    {
      "cell_type": "code",
      "source": [
        "celsius = float(input(\"enter temperature in celsius: \"))\n",
        "fahrenheit = (celsius * 9/5) +32\n",
        "print(f\"{celsius}°C is equal to {fahrenheit}°F\")"
      ],
      "metadata": {
        "colab": {
          "base_uri": "https://localhost:8080/"
        },
        "id": "A0WDBXzdDcR3",
        "outputId": "49b7bb67-eff9-4686-acf0-f2eba5d08a60"
      },
      "execution_count": null,
      "outputs": [
        {
          "output_type": "stream",
          "name": "stdout",
          "text": [
            "enter temperature in celsius: 50\n",
            "50.0°C is equal to 122.0°F\n"
          ]
        }
      ]
    },
    {
      "cell_type": "markdown",
      "source": [
        "Problem 3: Simple Calculator"
      ],
      "metadata": {
        "id": "FDoa6CVFEHRx"
      }
    },
    {
      "cell_type": "code",
      "source": [
        "num1 = float(input(\"Enter the first number: \"))\n",
        "num2 = float(input(\"Enter the second number: \"))\n",
        "\n",
        "print(\"choose an operation: \")\n",
        "print(\"1. Add(+)\")\n",
        "print(\"2. Subtract(-)\")\n",
        "print(\"3. Multiply(*)\")\n",
        "print(\"4. Divide(/)\")\n",
        "\n",
        "operation = input(\"Enter the operation (1, 2, 3, or 4): \")\n",
        "\n",
        "if operation == \"1\":\n",
        "    result = num1 + num2\n",
        "    print(f\"{num1} + {num2} = {result}\")\n",
        "elif operation == \"2\":\n",
        "    result = num1 - num2\n",
        "    print(f\"{num1} - {num2} = {result}\")\n",
        "elif operation == \"3\":\n",
        "    result = num1 * num2\n",
        "    print(f\"{num1} * {num2} = {result}\")\n",
        "elif operation == \"4\":\n",
        "    if num2 == 0:\n",
        "        print(\"Oh noo! You can't divide by zero.\")\n",
        "    else:\n",
        "        result = num1 / num2\n",
        "        print(f\"{num1} / {num2} = {result}\")\n",
        "else:\n",
        "    print(\"Invalid operation. Please choose 1, 2, 3, or 4.\")"
      ],
      "metadata": {
        "colab": {
          "base_uri": "https://localhost:8080/"
        },
        "id": "XBpHDZzrEImf",
        "outputId": "0195736f-96e1-4650-fcf9-b87744a4012c"
      },
      "execution_count": null,
      "outputs": [
        {
          "output_type": "stream",
          "name": "stdout",
          "text": [
            "Enter the first number: 5\n",
            "Enter the second number: 7\n",
            "choose an operation: \n",
            "1. Add(+)\n",
            "2. Subtract(-)\n",
            "3. Multiply(*)\n",
            "4. Divide(/)\n",
            "Enter the operation (1, 2, 3, or 4): 2\n",
            "5.0 - 7.0 = -2.0\n"
          ]
        }
      ]
    },
    {
      "cell_type": "markdown",
      "source": [
        "Advanced Calculator"
      ],
      "metadata": {
        "id": "VschJBImEfBn"
      }
    },
    {
      "cell_type": "code",
      "source": [
        "while True:\n",
        "\n",
        "    num1 = float(input(\"Enter the first number: \"))\n",
        "    num2 = float(input(\"Enter the second number: \"))\n",
        "\n",
        "    print(\"Choose an operation:\")\n",
        "    print(\"1. Add (+)\")\n",
        "    print(\"2. Subtract (-)\")\n",
        "    print(\"3. Multiply (*)\")\n",
        "    print(\"4. Divide (/)\")\n",
        "    operation = input(\"Enter the operation (1, 2, 3, or 4): \")\n",
        "\n",
        "\n",
        "    if operation == \"1\":\n",
        "        result = num1 + num2\n",
        "        print(f\"{num1} + {num2} = {result}\")\n",
        "    elif operation == \"2\":\n",
        "        result = num1 - num2\n",
        "        print(f\"{num1} - {num2} = {result}\")\n",
        "    elif operation == \"3\":\n",
        "        result = num1 * num2\n",
        "        print(f\"{num1} * {num2} = {result}\")\n",
        "    elif operation == \"4\":\n",
        "        if num2 == 0:\n",
        "            print(\"Oh noo! You can't divide by zero.\")\n",
        "        else:\n",
        "            result = num1 / num2\n",
        "            print(f\"{num1} / {num2} = {result}\")\n",
        "    else:\n",
        "        print(\"Invalid operation! Please choose valid operation like 1, 2, 3, or 4.\")\n",
        "\n",
        "    again = input(\"Do you want to do another calculation? (yes/no): \")\n",
        "    if again.lower() != \"yes\":\n",
        "        print(\"Bye! Thanks for using the calculator.\")\n",
        "        break"
      ],
      "metadata": {
        "colab": {
          "base_uri": "https://localhost:8080/"
        },
        "id": "rziOZMq_EiDP",
        "outputId": "ad8a554f-3b27-4f84-8dd9-542f4269813f"
      },
      "execution_count": null,
      "outputs": [
        {
          "output_type": "stream",
          "name": "stdout",
          "text": [
            "Enter the first number: 5\n",
            "Enter the second number: 6\n",
            "Choose an operation:\n",
            "1. Add (+)\n",
            "2. Subtract (-)\n",
            "3. Multiply (*)\n",
            "4. Divide (/)\n",
            "Enter the operation (1, 2, 3, or 4): 3\n",
            "5.0 * 6.0 = 30.0\n",
            "Do you want to do another calculation? (yes/no): yes\n",
            "Enter the first number: 90\n",
            "Enter the second number: 90\n",
            "Choose an operation:\n",
            "1. Add (+)\n",
            "2. Subtract (-)\n",
            "3. Multiply (*)\n",
            "4. Divide (/)\n",
            "Enter the operation (1, 2, 3, or 4): 4\n",
            "90.0 / 90.0 = 1.0\n",
            "Do you want to do another calculation? (yes/no): no\n",
            "Bye! Thanks for using the calculator.\n"
          ]
        }
      ]
    },
    {
      "cell_type": "markdown",
      "source": [
        "Problem 4: Area Calculator"
      ],
      "metadata": {
        "id": "MhS5EwwJE9h3"
      }
    },
    {
      "cell_type": "code",
      "source": [
        "calculate_length = float(input(\"enter the length: \"))\n",
        "calculate_width = float(input(\"enter the width: \"))\n",
        "calculate_area = calculate_length * calculate_width\n",
        "print(f\"Area is {calculate_area} square units\")"
      ],
      "metadata": {
        "colab": {
          "base_uri": "https://localhost:8080/"
        },
        "id": "bRad4eSLE_Rn",
        "outputId": "9c90387c-0808-4251-eed1-9c24517bf635"
      },
      "execution_count": null,
      "outputs": [
        {
          "output_type": "stream",
          "name": "stdout",
          "text": [
            "enter the length: 6\n",
            "enter the width: 9\n",
            "Area is 54.0 square units\n"
          ]
        }
      ]
    },
    {
      "cell_type": "markdown",
      "source": [
        "Problem 5: String Manipulation"
      ],
      "metadata": {
        "id": "IbthOQtPGGjv"
      }
    },
    {
      "cell_type": "code",
      "source": [
        "sentence = input(\"enter a sentence: \")\n",
        "print(\"uppercase: \", sentence.upper())\n",
        "print(\"lowercase: \", sentence.lower())\n",
        "print(\"titlecase: \", sentence.title())\n",
        "print(\"word count: \", len(sentence.split()))\n",
        "print(\"character count: \", len(sentence))"
      ],
      "metadata": {
        "id": "jWUKNj68GIfA",
        "colab": {
          "base_uri": "https://localhost:8080/"
        },
        "outputId": "3a585c33-43da-4b17-e9a3-f1dc215e90d3"
      },
      "execution_count": 1,
      "outputs": [
        {
          "output_type": "stream",
          "name": "stdout",
          "text": [
            "enter a sentence: Hey, Panda what's going on?\n",
            "uppercase:  HEY, PANDA WHAT'S GOING ON?\n",
            "lowercase:  hey, panda what's going on?\n",
            "titlecase:  Hey, Panda What'S Going On?\n",
            "word count:  5\n",
            "character count:  27\n"
          ]
        }
      ]
    }
  ]
}