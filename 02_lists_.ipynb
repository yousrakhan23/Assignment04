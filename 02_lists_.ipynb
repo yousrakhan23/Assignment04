{
  "nbformat": 4,
  "nbformat_minor": 0,
  "metadata": {
    "colab": {
      "provenance": []
    },
    "kernelspec": {
      "name": "python3",
      "display_name": "Python 3"
    },
    "language_info": {
      "name": "python"
    }
  },
  "cells": [
    {
      "cell_type": "markdown",
      "source": [
        "3. 02_lists - Introduction to lists, their properties, methods, and how to manipulate list\n",
        "elements."
      ],
      "metadata": {
        "id": "zCnpmnCa8JwU"
      }
    },
    {
      "cell_type": "markdown",
      "source": [
        "Problem 1: List Creation and Access"
      ],
      "metadata": {
        "id": "_C4JSLpRBNG4"
      }
    },
    {
      "cell_type": "code",
      "source": [
        "countries = ['USA' , 'CANADA' , 'UK' , 'JAPAN' , 'PAKISTAN']\n",
        "print(countries[2])\n",
        "\n",
        "countries[1] = 'AUSTRALIA'\n",
        "print(countries)\n",
        "\n",
        "print(countries[-2:])"
      ],
      "metadata": {
        "colab": {
          "base_uri": "https://localhost:8080/"
        },
        "id": "6RRUWebKBNwp",
        "outputId": "2a6a7246-07d7-4e9d-ba8b-34f2c3707569"
      },
      "execution_count": 2,
      "outputs": [
        {
          "output_type": "stream",
          "name": "stdout",
          "text": [
            "UK\n",
            "['USA', 'AUSTRALIA', 'UK', 'JAPAN', 'PAKISTAN']\n",
            "['JAPAN', 'PAKISTAN']\n"
          ]
        }
      ]
    },
    {
      "cell_type": "markdown",
      "source": [
        "Problem 2: List Operations"
      ],
      "metadata": {
        "id": "ymPDJRjECC5J"
      }
    },
    {
      "cell_type": "code",
      "source": [
        "make_list1 = [1,2,3]\n",
        "make_list2 = [4,5,6]\n",
        "\n",
        "combined_list = make_list1 + make_list2\n",
        "print(combined_list)\n",
        "\n",
        "repeated_list = make_list1 *3\n",
        "print(repeated_list)\n",
        "\n",
        "print(4 in combined_list)"
      ],
      "metadata": {
        "colab": {
          "base_uri": "https://localhost:8080/"
        },
        "id": "TwJfEvoICDaa",
        "outputId": "b332ac60-1238-427c-ad07-be02987f5a67"
      },
      "execution_count": 5,
      "outputs": [
        {
          "output_type": "stream",
          "name": "stdout",
          "text": [
            "[1, 2, 3, 4, 5, 6]\n",
            "[1, 2, 3, 1, 2, 3, 1, 2, 3]\n",
            "True\n"
          ]
        }
      ]
    },
    {
      "cell_type": "markdown",
      "source": [
        "Problem 3: List Manipulation"
      ],
      "metadata": {
        "id": "0hRQH0-aCvzp"
      }
    },
    {
      "cell_type": "code",
      "source": [
        "colors = ['red', 'green', 'blue', 'yellow', 'purple']\n",
        "\n",
        "colors.remove('blue')\n",
        "\n",
        "colors.insert(0, 'orange')\n",
        "\n",
        "colors[colors.index('yellow')] = 'pink'\n",
        "\n",
        "print(colors)"
      ],
      "metadata": {
        "colab": {
          "base_uri": "https://localhost:8080/"
        },
        "id": "RdssfLYyCwlQ",
        "outputId": "9c3cc221-6b11-406b-bfa3-c7dea75e9f5f"
      },
      "execution_count": 6,
      "outputs": [
        {
          "output_type": "stream",
          "name": "stdout",
          "text": [
            "['orange', 'red', 'green', 'pink', 'purple']\n"
          ]
        }
      ]
    },
    {
      "cell_type": "markdown",
      "source": [
        "Problem 4: List Slicing Challenge"
      ],
      "metadata": {
        "id": "wIsNU3TsDS14"
      }
    },
    {
      "cell_type": "code",
      "source": [
        "numbers = [0,1,2,3,4,5,6,7,8,9]\n",
        "evens = numbers[::2]\n",
        "\n",
        "first_half = numbers[:len(numbers) //2]\n",
        "\n",
        "reversed_numbers = numbers[::-1]\n",
        "\n",
        "print(evens)\n",
        "print(first_half)\n",
        "print(reversed_numbers)"
      ],
      "metadata": {
        "colab": {
          "base_uri": "https://localhost:8080/"
        },
        "id": "tMfXfOK5DTVP",
        "outputId": "05a96636-e772-4821-ebb2-53fe626a25bb"
      },
      "execution_count": 8,
      "outputs": [
        {
          "output_type": "stream",
          "name": "stdout",
          "text": [
            "[0, 2, 4, 6, 8]\n",
            "[0, 1, 2, 3, 4]\n",
            "[9, 8, 7, 6, 5, 4, 3, 2, 1, 0]\n"
          ]
        }
      ]
    },
    {
      "cell_type": "markdown",
      "source": [
        "Problem 5: Nested Lists"
      ],
      "metadata": {
        "id": "7XHyXpA0ECvf"
      }
    },
    {
      "cell_type": "code",
      "source": [
        "matrix = [\n",
        "    [1, 2, 3],\n",
        "    [4, 5, 6],\n",
        "    [7, 8, 9],\n",
        "]\n",
        "\n",
        "print(matrix[1][2])\n",
        "\n",
        "matrix[1][1] = 0\n",
        "print(matrix)\n",
        "\n",
        "for row in matrix:\n",
        "    for num in row:\n",
        "      print(num, end=' ')\n",
        "    print()"
      ],
      "metadata": {
        "colab": {
          "base_uri": "https://localhost:8080/"
        },
        "id": "iW7-MsCqEDMy",
        "outputId": "28113f6c-b108-45a4-c1ef-31ee2af1263f"
      },
      "execution_count": 13,
      "outputs": [
        {
          "output_type": "stream",
          "name": "stdout",
          "text": [
            "6\n",
            "[[1, 2, 3], [4, 0, 6], [7, 8, 9]]\n",
            "1 2 3 \n",
            "4 0 6 \n",
            "7 8 9 \n"
          ]
        }
      ]
    },
    {
      "cell_type": "markdown",
      "source": [
        "List Comprehensions"
      ],
      "metadata": {
        "id": "kHW3Tpn9FGof"
      }
    },
    {
      "cell_type": "code",
      "source": [
        "squares = [x**2 for x in range(1, 6)]\n",
        "print(squares)\n",
        "\n",
        "evens = [x for x in range(20) if x % 2 == 0]\n",
        "print(evens)\n",
        "\n",
        "matrix = [[i + j for j in range(3)] for i in range(3)]\n",
        "print(matrix)"
      ],
      "metadata": {
        "colab": {
          "base_uri": "https://localhost:8080/"
        },
        "id": "0Qc8pHO7FHOP",
        "outputId": "0e2d67db-25f5-4604-9ded-385fc932a909"
      },
      "execution_count": 17,
      "outputs": [
        {
          "output_type": "stream",
          "name": "stdout",
          "text": [
            "[1, 4, 9, 16, 25]\n",
            "[0, 2, 4, 6, 8, 10, 12, 14, 16, 18]\n",
            "[[0, 1, 2], [1, 2, 3], [2, 3, 4]]\n"
          ]
        }
      ]
    },
    {
      "cell_type": "markdown",
      "source": [
        "Copying Lists"
      ],
      "metadata": {
        "id": "quxYrto7GLUf"
      }
    },
    {
      "cell_type": "code",
      "source": [
        "original = [1, 2, 3]\n",
        "shallow_copy = original.copy()      # Method 1\n",
        "deep_copy = original[:]             # Method 2\n",
        "shallow_copy[0] = 100\n",
        "\n",
        "print(original)\n",
        "print(shallow_copy)\n",
        "print(deep_copy)"
      ],
      "metadata": {
        "colab": {
          "base_uri": "https://localhost:8080/"
        },
        "id": "EZeRbh5lGERf",
        "outputId": "f56f31da-de4c-4545-c793-27645bb9a076"
      },
      "execution_count": 19,
      "outputs": [
        {
          "output_type": "stream",
          "name": "stdout",
          "text": [
            "[1, 2, 3]\n",
            "[100, 2, 3]\n",
            "[1, 2, 3]\n"
          ]
        }
      ]
    },
    {
      "cell_type": "markdown",
      "source": [
        "List as Stack and Queue"
      ],
      "metadata": {
        "id": "DosoMCweGOYP"
      }
    },
    {
      "cell_type": "code",
      "source": [
        "stack = []\n",
        "stack.append(1)\n",
        "stack.append(2)\n",
        "popped = stack.pop()\n",
        "print(popped)\n",
        "\n",
        "queue = []\n",
        "queue.append(1)\n",
        "queue.append(2)\n",
        "first = queue.pop(0)\n",
        "print(first)"
      ],
      "metadata": {
        "colab": {
          "base_uri": "https://localhost:8080/"
        },
        "id": "QZeDXZX0GRhP",
        "outputId": "d31a0a2b-f7f8-4e0b-866a-72fa85ad23e8"
      },
      "execution_count": 21,
      "outputs": [
        {
          "output_type": "stream",
          "name": "stdout",
          "text": [
            "2\n",
            "1\n"
          ]
        }
      ]
    }
  ]
}