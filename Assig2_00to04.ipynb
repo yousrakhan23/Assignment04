{
  "nbformat": 4,
  "nbformat_minor": 0,
  "metadata": {
    "colab": {
      "provenance": []
    },
    "kernelspec": {
      "name": "python3",
      "display_name": "Python 3"
    },
    "language_info": {
      "name": "python"
    }
  },
  "cells": [
    {
      "cell_type": "markdown",
      "source": [
        "**Assignment 2: Basic Python Projects**"
      ],
      "metadata": {
        "id": "ZUkY0biat3Kd"
      }
    },
    {
      "cell_type": "markdown",
      "source": [
        "1. 00_joke_bot.md - A simple chatbot that tells random jokes to the user. This project\n",
        "helps understand user input, random module usage, and basic string manipulation."
      ],
      "metadata": {
        "id": "5SI3ebGruGZH"
      }
    },
    {
      "cell_type": "code",
      "source": [
        "import random\n",
        "jokes = [\n",
        "    \"Why don't scientists trust atoms? Because they make up everything!\",\n",
        "    \"Why did the scarecrow win an award? Because he was outstanding in his field!\",\n",
        "    \"Why don’t skeletons fight each other? They don’t have the guts!\",\n",
        "    \"What do you call fake spaghetti? An impasta!\",\n",
        "    \"How do you organize a space party? You planet!\",\n",
        "]\n",
        "user_input = input(\"Do you want to hear a joke? (yes/no): \").lower()\n",
        "if user_input == \"yes\":\n",
        "    joke = random.choice(jokes)\n",
        "    print(\"\\nHere's your joke:\", joke)\n",
        "elif user_input == \"no\":\n",
        "    print(\"\\nOkay, maybe next time!\")\n",
        "else:\n",
        "    print(\"\\nPlease enter 'yes' or 'no'.\")\n",
        "while True:\n",
        "    user_input = input(\"\\nDo you want to hear a joke? (yes/no): \").lower()\n",
        "\n",
        "    if user_input == \"yes\":\n",
        "        joke = random.choice(jokes)\n",
        "        print(\"\\nHere's your joke:\", joke)\n",
        "    elif user_input == \"no\":\n",
        "        print(\"\\nOkay, goodbye! 😊\")\n",
        "        break\n",
        "    else:\n",
        "        print(\"\\nPlease enter 'yes' or 'no'.\")"
      ],
      "metadata": {
        "colab": {
          "base_uri": "https://localhost:8080/"
        },
        "id": "_39XNuSFw64Y",
        "outputId": "ecc6b431-bf19-4ad8-dda7-aabd5c858832"
      },
      "execution_count": null,
      "outputs": [
        {
          "output_type": "stream",
          "name": "stdout",
          "text": [
            "Do you want to hear a joke? (yes/no): yes\n",
            "\n",
            "Here's your joke: What do you call fake spaghetti? An impasta!\n",
            "\n",
            "Do you want to hear a joke? (yes/no): yes\n",
            "\n",
            "Here's your joke: Why did the scarecrow win an award? Because he was outstanding in his field!\n",
            "\n",
            "Do you want to hear a joke? (yes/no): yes\n",
            "\n",
            "Here's your joke: Why don't scientists trust atoms? Because they make up everything!\n",
            "\n",
            "Do you want to hear a joke? (yes/no): yes\n",
            "\n",
            "Here's your joke: What do you call fake spaghetti? An impasta!\n",
            "\n",
            "Do you want to hear a joke? (yes/no): yes\n",
            "\n",
            "Here's your joke: What do you call fake spaghetti? An impasta!\n",
            "\n",
            "Do you want to hear a joke? (yes/no): no\n",
            "\n",
            "Okay, goodbye! 😊\n"
          ]
        }
      ]
    },
    {
      "cell_type": "markdown",
      "source": [
        "2. 01_double_it.md - A program that takes a number from the user and returns double\n",
        "its value. This project introduces function definitions and user input handling."
      ],
      "metadata": {
        "id": "9QCrg5Cmy7x1"
      }
    },
    {
      "cell_type": "code",
      "source": [
        "def double_it(number):\n",
        "    return number * 2\n",
        "\n",
        "user_input = input(\"Enter a number: \")\n",
        "\n",
        "try:\n",
        "    number = float(user_input)\n",
        "    result = double_it(number)\n",
        "    print(f\"Double of {number} is {result}\")\n",
        "except ValueError:\n",
        "    print(\"Error: Please enter a valid number.\")\n",
        "while True:\n",
        "    user_input = input(\"Enter a number (or 'quit' to exit): \")\n",
        "\n",
        "    if user_input.lower() == 'quit':\n",
        "        print(\"Goodbye!\")\n",
        "        break\n",
        "\n",
        "    try:\n",
        "        number = float(user_input)\n",
        "        result = double_it(number)\n",
        "        print(f\"Double of {number} is {result}\")\n",
        "    except ValueError:\n",
        "        print(\"Error: Please enter a valid number.\")"
      ],
      "metadata": {
        "colab": {
          "base_uri": "https://localhost:8080/"
        },
        "id": "nLYqzSouzSMZ",
        "outputId": "910ce0c3-29f8-45f0-d542-e00535875615"
      },
      "execution_count": null,
      "outputs": [
        {
          "output_type": "stream",
          "name": "stdout",
          "text": [
            "Enter a number: 6\n",
            "Double of 6.0 is 12.0\n",
            "Enter a number (or 'quit' to exit): 7\n",
            "Double of 7.0 is 14.0\n",
            "Enter a number (or 'quit' to exit): quit\n",
            "Goodbye!\n"
          ]
        }
      ]
    },
    {
      "cell_type": "markdown",
      "source": [
        "3. 02_liftoff.md - A countdown program that prints a countdown sequence leading to\n",
        "\"Liftoff!\". It covers loops, time delays (using time.sleep), and formatted printing."
      ],
      "metadata": {
        "id": "X3rqr0Pez1fy"
      }
    },
    {
      "cell_type": "code",
      "source": [
        "import time\n",
        "\n",
        "# Option 1: Fixed 10-second countdown\n",
        "print(\"Starting countdown:\")\n",
        "for i in range(10, 0, -1):\n",
        "    print(i)\n",
        "    time.sleep(1)\n",
        "print(\"Liftoff! 🚀\")\n",
        "\n",
        "# Option 2: User-defined countdown\n",
        "start = int(input(\"\\nCustom countdown from (e.g., 5): \"))\n",
        "print(f\"T-{start} seconds until liftoff...\")\n",
        "\n",
        "while start > 0:\n",
        "    print(f\"T-{start}...\")\n",
        "    time.sleep(1)\n",
        "    start -= 1\n",
        "print(\"Liftoff! 🚀\")\n",
        "\n",
        "try:\n",
        "    for i in range(10, 0, -1):\n",
        "        print(i)\n",
        "        time.sleep(1)\n",
        "    print(\"Liftoff! 🚀\")\n",
        "except KeyboardInterrupt:\n",
        "    print(\"\\nCountdown aborted! ❌\")"
      ],
      "metadata": {
        "colab": {
          "base_uri": "https://localhost:8080/"
        },
        "id": "LRYDpTFOz2MC",
        "outputId": "808e4155-0bca-4e07-88c1-96532a0b1352"
      },
      "execution_count": null,
      "outputs": [
        {
          "output_type": "stream",
          "name": "stdout",
          "text": [
            "Starting countdown:\n",
            "10\n",
            "9\n",
            "8\n",
            "7\n",
            "6\n",
            "5\n",
            "4\n",
            "3\n",
            "2\n",
            "1\n",
            "Liftoff! 🚀\n",
            "\n",
            "Custom countdown from (e.g., 5): 6\n",
            "T-6 seconds until liftoff...\n",
            "T-6...\n",
            "T-5...\n",
            "T-4...\n",
            "T-3...\n",
            "T-2...\n",
            "T-1...\n",
            "Liftoff! 🚀\n",
            "10\n",
            "9\n",
            "8\n",
            "7\n",
            "6\n",
            "5\n",
            "4\n",
            "3\n",
            "2\n",
            "1\n",
            "Liftoff! 🚀\n"
          ]
        }
      ]
    },
    {
      "cell_type": "markdown",
      "source": [
        "4. 03_guess_my_number.md - A number guessing game where the user tries to guess a\n",
        "randomly generated number. This project includes random number generation, loops,\n",
        "and conditional statements."
      ],
      "metadata": {
        "id": "vpIHLOsl2HgC"
      }
    },
    {
      "cell_type": "code",
      "source": [
        "import random\n",
        "\n",
        "def guess_the_number():\n",
        "    print(\"Select difficulty:\")\n",
        "    print(\"1. Easy (1-50, unlimited guesses)\")\n",
        "    print(\"2. Medium (1-100, 10 guesses max)\")\n",
        "    print(\"3. Hard (1-200, 5 guesses max)\")\n",
        "\n",
        "    while True:\n",
        "        try:\n",
        "            level = int(input(\"Choose (1-3): \"))\n",
        "            if level in (1, 2, 3):\n",
        "                break\n",
        "            print(\"Please enter 1, 2, or 3\")\n",
        "        except ValueError:\n",
        "            print(\"Invalid input\")\n",
        "\n",
        "    # Set game parameters based on difficulty\n",
        "    if level == 1:\n",
        "        max_num, max_attempts = 50, float('inf')\n",
        "    elif level == 2:\n",
        "        max_num, max_attempts = 100, 10\n",
        "    else:\n",
        "        max_num, max_attempts = 200, 5\n",
        "\n",
        "    secret_number = random.randint(1, max_num)\n",
        "    attempts = 0\n",
        "\n",
        "    print(f\"\\nI'm thinking of a number between 1 and {max_num}...\")\n",
        "\n",
        "    while attempts < max_attempts:\n",
        "        try:\n",
        "            guess = int(input(f\"\\nGuess #{attempts + 1}: \"))\n",
        "            attempts += 1\n",
        "\n",
        "            if guess < secret_number:\n",
        "                print(\"Too low!\")\n",
        "            elif guess > secret_number:\n",
        "                print(\"Too high!\")\n",
        "            else:\n",
        "                print(f\"\\nYou won! It took you {attempts} guesses!\")\n",
        "                return\n",
        "\n",
        "            remaining = max_attempts - attempts\n",
        "            if remaining > 0 and max_attempts != float('inf'):\n",
        "                print(f\"{remaining} guesses remaining\")\n",
        "\n",
        "        except ValueError:\n",
        "            print(\"Please enter a valid number\")\n",
        "            continue\n",
        "\n",
        "    print(f\"\\nGame over! The number was {secret_number}\")\n",
        "\n",
        "# Start the enhanced game\n",
        "guess_the_number()"
      ],
      "metadata": {
        "colab": {
          "base_uri": "https://localhost:8080/"
        },
        "id": "eAmz-F6RBZhN",
        "outputId": "3b1a3cfc-2599-491b-969a-dd9de6e76b83"
      },
      "execution_count": null,
      "outputs": [
        {
          "output_type": "stream",
          "name": "stdout",
          "text": [
            "Select difficulty:\n",
            "1. Easy (1-50, unlimited guesses)\n",
            "2. Medium (1-100, 10 guesses max)\n",
            "3. Hard (1-200, 5 guesses max)\n",
            "Choose (1-3): 1\n",
            "\n",
            "I'm thinking of a number between 1 and 50...\n",
            "\n",
            "Guess #1: 50\n",
            "Too high!\n",
            "\n",
            "Guess #2: 6\n",
            "Too low!\n",
            "\n",
            "Guess #3: 89\n",
            "Too high!\n",
            "\n",
            "Guess #4: 76\n",
            "Too high!\n",
            "\n",
            "Guess #5: 32\n",
            "Too low!\n",
            "\n",
            "Guess #6: 101\n",
            "Too high!\n"
          ]
        }
      ]
    },
    {
      "cell_type": "markdown",
      "source": [
        "5. 04_random_numbers.md - A program that generates and prints random numbers\n",
        "based on user input. It covers the random module and basic control flow."
      ],
      "metadata": {
        "id": "tCFVTB345FYM"
      }
    },
    {
      "cell_type": "code",
      "source": [
        "import random\n",
        "\n",
        "def random_number_generator():\n",
        "    print(\"\\n=== Random Number Generator ===\")\n",
        "    print(\"1. Integer within a range\")\n",
        "    print(\"2. Decimal between 0 and 1\")\n",
        "    print(\"3. Multiple random integers\")\n",
        "    print(\"4. Random choice from a list\")\n",
        "    print(\"5. Exit\")\n",
        "\n",
        "    while True:\n",
        "        try:\n",
        "            choice = int(input(\"\\nEnter your choice (1-5): \"))\n",
        "\n",
        "            # Integer in range\n",
        "            if choice == 1:\n",
        "                low = int(input(\"Enter minimum value: \"))\n",
        "                high = int(input(\"Enter maximum value: \"))\n",
        "                if low >= high:\n",
        "                    print(\"Error: Minimum must be less than maximum\")\n",
        "                    continue\n",
        "                print(f\"Random number: {random.randint(low, high)}\")\n",
        "\n",
        "            # Decimal 0-1\n",
        "            elif choice == 2:\n",
        "                print(f\"Random decimal: {random.random():.4f}\")\n",
        "\n",
        "            # Multiple integers\n",
        "            elif choice == 3:\n",
        "                count = int(input(\"How many numbers to generate? \"))\n",
        "                low = int(input(\"Minimum value: \"))\n",
        "                high = int(input(\"Maximum value: \"))\n",
        "                if count <=0 or low >= high:\n",
        "                    print(\"Invalid parameters\")\n",
        "                    continue\n",
        "                numbers = [random.randint(low, high) for _ in range(count)]\n",
        "                print(\"Generated numbers:\", numbers)\n",
        "\n",
        "            # Choice from list\n",
        "            elif choice == 4:\n",
        "                items = input(\"Enter items separated by commas: \").split(',')\n",
        "                items = [item.strip() for item in items if item.strip()]\n",
        "                if not items:\n",
        "                    print(\"No valid items entered\")\n",
        "                    continue\n",
        "                print(f\"Random selection: {random.choice(items)}\")\n",
        "\n",
        "            # Exit\n",
        "            elif choice == 5:\n",
        "                print(\"Goodbye!\")\n",
        "                break\n",
        "\n",
        "            else:\n",
        "                print(\"Please enter a number between 1-5\")\n",
        "\n",
        "        except ValueError:\n",
        "            print(\"Invalid input. Please enter a number\")\n",
        "\n",
        "# Start the program\n",
        "random_number_generator()"
      ],
      "metadata": {
        "id": "wgS5dK4g5HyT",
        "colab": {
          "base_uri": "https://localhost:8080/"
        },
        "outputId": "f42014c0-93d2-41a3-feb2-f44115b18c78"
      },
      "execution_count": null,
      "outputs": [
        {
          "output_type": "stream",
          "name": "stdout",
          "text": [
            "\n",
            "=== Random Number Generator ===\n",
            "1. Integer within a range\n",
            "2. Decimal between 0 and 1\n",
            "3. Multiple random integers\n",
            "4. Random choice from a list\n",
            "5. Exit\n",
            "\n",
            "Enter your choice (1-5): 4\n",
            "Enter items separated by commas: banana, basket\n",
            "Random selection: basket\n",
            "\n",
            "Enter your choice (1-5): 2\n",
            "Random decimal: 0.9220\n",
            "\n",
            "Enter your choice (1-5): 5\n",
            "Goodbye!\n"
          ]
        }
      ]
    },
    {
      "cell_type": "markdown",
      "source": [],
      "metadata": {
        "id": "zL7fQDOTBVr9"
      }
    }
  ]
}