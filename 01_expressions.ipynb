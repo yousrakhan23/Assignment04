{
  "nbformat": 4,
  "nbformat_minor": 0,
  "metadata": {
    "colab": {
      "provenance": []
    },
    "kernelspec": {
      "name": "python3",
      "display_name": "Python 3"
    },
    "language_info": {
      "name": "python"
    }
  },
  "cells": [
    {
      "cell_type": "markdown",
      "source": [
        "2. 01_expressions - Understanding expressions, arithmetic operations, and how Python\n",
        "evaluates expressions."
      ],
      "metadata": {
        "id": "hrc5E7lA0Le9"
      }
    },
    {
      "cell_type": "markdown",
      "source": [
        "1. Arithmetic Operators"
      ],
      "metadata": {
        "id": "qhhJjTOC1OPU"
      }
    },
    {
      "cell_type": "code",
      "source": [
        "num1 = 3\n",
        "num2 = 6\n",
        "print(num1+num2)\n",
        "print(num1-num2)\n",
        "print(num1*num2)\n",
        "print(num1/num2)\n",
        "print(num1//num2)\n",
        "print(num1%num2)\n",
        "print(num1**num2)"
      ],
      "metadata": {
        "colab": {
          "base_uri": "https://localhost:8080/"
        },
        "id": "WOHXPWB61PhE",
        "outputId": "ef674e70-e2b0-47e1-9b56-336410ddef94"
      },
      "execution_count": 1,
      "outputs": [
        {
          "output_type": "stream",
          "name": "stdout",
          "text": [
            "9\n",
            "-3\n",
            "18\n",
            "0.5\n",
            "0\n",
            "3\n",
            "729\n"
          ]
        }
      ]
    },
    {
      "cell_type": "markdown",
      "source": [
        "2. Expression Evaluation Order\n",
        "Python evaluates expressions using PEMDAS rules:\n",
        "\n",
        "Parentheses ()\n",
        "\n",
        "Exponents **\n",
        "\n",
        "Multiplication *, Division /, Floor division //, Modulus %\n",
        "\n",
        "Addition +, Subtraction -"
      ],
      "metadata": {
        "id": "EIAhIuAs1pJ0"
      }
    },
    {
      "cell_type": "code",
      "source": [],
      "metadata": {
        "id": "CRLd5Pgb1rak"
      },
      "execution_count": null,
      "outputs": []
    },
    {
      "cell_type": "code",
      "source": [
        "calculate_result = 10 + 2 * 3 ** 2\n",
        "print(calculate_result)"
      ],
      "metadata": {
        "colab": {
          "base_uri": "https://localhost:8080/"
        },
        "id": "LbRjWkPR1zE-",
        "outputId": "d8a474b0-9f78-4770-a772-b56ef29e46c2"
      },
      "execution_count": 2,
      "outputs": [
        {
          "output_type": "stream",
          "name": "stdout",
          "text": [
            "28\n"
          ]
        }
      ]
    },
    {
      "cell_type": "markdown",
      "source": [
        "3. Type Conversion in Expressions"
      ],
      "metadata": {
        "id": "rzpx3v6_2X-l"
      }
    },
    {
      "cell_type": "code",
      "source": [
        "print(3 + 5.0)\n",
        "print(True + 2)\n",
        "print(\"num: \" + str(5))"
      ],
      "metadata": {
        "colab": {
          "base_uri": "https://localhost:8080/"
        },
        "id": "_uafXjiE2Yr0",
        "outputId": "7276c120-cf89-41e1-f33e-ed45bc71f457"
      },
      "execution_count": 3,
      "outputs": [
        {
          "output_type": "stream",
          "name": "stdout",
          "text": [
            "8.0\n",
            "3\n",
            "num: 5\n"
          ]
        }
      ]
    },
    {
      "cell_type": "markdown",
      "source": [
        "Problem 1: Basic Expression Evaluation"
      ],
      "metadata": {
        "id": "ppwwGZ4D24Z8"
      }
    },
    {
      "cell_type": "code",
      "source": [
        "a = 5 * 2 + 3\n",
        "b = 5 * (2 + 3)\n",
        "c = 2 ** 3 * 4\n",
        "d = 10 % 3 + 5 // 2\n",
        "\n",
        "print(a)\n",
        "print(b)\n",
        "print(c)\n",
        "print(d)"
      ],
      "metadata": {
        "colab": {
          "base_uri": "https://localhost:8080/"
        },
        "id": "XO9H4lbI3AvT",
        "outputId": "1493b1c5-3011-4c0f-b058-e36600a3252e"
      },
      "execution_count": 5,
      "outputs": [
        {
          "output_type": "stream",
          "name": "stdout",
          "text": [
            "13\n",
            "25\n",
            "32\n",
            "3\n"
          ]
        }
      ]
    },
    {
      "cell_type": "markdown",
      "source": [
        "Problem 2: Temperature Conversion with Expression"
      ],
      "metadata": {
        "id": "CbKvuEzz3jLT"
      }
    },
    {
      "cell_type": "code",
      "source": [
        "calculate_fahrenheit = 98.6\n",
        "calculate_celsius = (calculate_fahrenheit -32) * 5/9\n",
        "print(f\"{calculate_fahrenheit}℉ = {calculate_celsius:.2f}℃\")"
      ],
      "metadata": {
        "colab": {
          "base_uri": "https://localhost:8080/"
        },
        "id": "fXWoPC9M3j6c",
        "outputId": "14c58144-a4e9-409a-fcf0-da8601e11aef"
      },
      "execution_count": 6,
      "outputs": [
        {
          "output_type": "stream",
          "name": "stdout",
          "text": [
            "98.6℉ = 37.00℃\n"
          ]
        }
      ]
    },
    {
      "cell_type": "markdown",
      "source": [
        "Problem 3: Compound Interest Calculator"
      ],
      "metadata": {
        "id": "pEA4D-aN4t6M"
      }
    },
    {
      "cell_type": "code",
      "source": [
        "# A = P(1 + r/n)^(nt)\n",
        "principal = 1000\n",
        "rate = 0.05\n",
        "years = 5\n",
        "compounds_per_year = 12\n",
        "amount = principal * (1 + rate/compounds_per_year) ** (compounds_per_year * years)\n",
        "print(f\"Future value: ${amount:.2f}\")"
      ],
      "metadata": {
        "colab": {
          "base_uri": "https://localhost:8080/"
        },
        "id": "jmfcrZPc4ufD",
        "outputId": "f516f963-94cc-4702-81d1-d19052a01741"
      },
      "execution_count": 8,
      "outputs": [
        {
          "output_type": "stream",
          "name": "stdout",
          "text": [
            "Future value: $1283.36\n"
          ]
        }
      ]
    },
    {
      "cell_type": "markdown",
      "source": [
        "Problem 4: Time Conversion"
      ],
      "metadata": {
        "id": "BUSLj9ew5kOy"
      }
    },
    {
      "cell_type": "code",
      "source": [
        "total_seconds = 7385\n",
        "hours = total_seconds // 3600\n",
        "remaining_seconds = total_seconds % 3600\n",
        "minutes = remaining_seconds // 60\n",
        "seconds = remaining_seconds % 60\n",
        "\n",
        "print(f\"{total_seconds} seconds = {hours}h {minutes}m {seconds}s\")"
      ],
      "metadata": {
        "colab": {
          "base_uri": "https://localhost:8080/"
        },
        "id": "9BXIGEvz5kzd",
        "outputId": "adf2c489-6c01-446e-f45d-84cb0e3d9c2c"
      },
      "execution_count": 10,
      "outputs": [
        {
          "output_type": "stream",
          "name": "stdout",
          "text": [
            "7385 seconds = 2h 3m 5s\n"
          ]
        }
      ]
    },
    {
      "cell_type": "markdown",
      "source": [
        "Assignment Operators"
      ],
      "metadata": {
        "id": "4IA0cDRT6ecj"
      }
    },
    {
      "cell_type": "code",
      "source": [
        "x = 5\n",
        "x += 3\n",
        "x *= 2\n",
        "x /= 4\n",
        "x %= 2\n",
        "x **= 3\n",
        "x //= 2\n",
        "print(x)"
      ],
      "metadata": {
        "colab": {
          "base_uri": "https://localhost:8080/"
        },
        "id": "s82Tv3bM6xK7",
        "outputId": "4f75da03-04cd-4db0-953e-a948b723000f"
      },
      "execution_count": 11,
      "outputs": [
        {
          "output_type": "stream",
          "name": "stdout",
          "text": [
            "0.0\n"
          ]
        }
      ]
    },
    {
      "cell_type": "markdown",
      "source": [
        "Boolean Expressions"
      ],
      "metadata": {
        "id": "wJVpELkN7BOj"
      }
    },
    {
      "cell_type": "code",
      "source": [
        "g = 5\n",
        "k = 3\n",
        "print(g > k)\n",
        "print(g < k)\n",
        "print(g >= k)\n",
        "print(g <= k)\n",
        "print(g == k)\n",
        "print(g != k)"
      ],
      "metadata": {
        "colab": {
          "base_uri": "https://localhost:8080/"
        },
        "id": "OmLRyd6A7B1S",
        "outputId": "8af28aee-f2f8-4252-9451-aa1fa950bc98"
      },
      "execution_count": 12,
      "outputs": [
        {
          "output_type": "stream",
          "name": "stdout",
          "text": [
            "True\n",
            "False\n",
            "True\n",
            "False\n",
            "False\n",
            "True\n"
          ]
        }
      ]
    }
  ]
}